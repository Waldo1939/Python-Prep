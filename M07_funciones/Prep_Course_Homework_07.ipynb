{
 "cells": [
  {
   "attachments": {},
   "cell_type": "markdown",
   "metadata": {},
   "source": [
    "## Funciones"
   ]
  },
  {
   "attachments": {},
   "cell_type": "markdown",
   "metadata": {},
   "source": [
    "1) Crear una función que reciba un número como parámetro y devuelva True si es primo y False si no lo es"
   ]
  },
  {
   "cell_type": "code",
   "execution_count": 5,
   "metadata": {},
   "outputs": [
    {
     "data": {
      "text/plain": [
       "True"
      ]
     },
     "execution_count": 5,
     "metadata": {},
     "output_type": "execute_result"
    }
   ],
   "source": [
    "def es_primo(num):\n",
    "    if num < 2:\n",
    "        return False\n",
    "    for i in range(2,int(num**0.5)+1):\n",
    "        if num %i==0:\n",
    "            return False\n",
    "    return True\n",
    "\n",
    "es_primo(7)"
   ]
  },
  {
   "attachments": {},
   "cell_type": "markdown",
   "metadata": {},
   "source": [
    "2) Utilizando la función del punto 1, realizar otra función que reciba de parámetro una lista de números y devuelva sólo aquellos que son primos en otra lista"
   ]
  },
  {
   "cell_type": "code",
   "execution_count": 15,
   "metadata": {},
   "outputs": [
    {
     "name": "stdout",
     "output_type": "stream",
     "text": [
      "[2, 3, 7, 7]\n"
     ]
    }
   ],
   "source": [
    "\n",
    "def filtrar_primos(lista):\n",
    "    lista_primo=[]\n",
    "    for i in lista:\n",
    "        if es_primo(i):\n",
    "            lista_primo.append(i)\n",
    "    return print(lista_primo)\n",
    "\n",
    "numeros=[1,2,3,4,45,6,7,7,8]\n",
    "filtrar_primos(numeros)"
   ]
  },
  {
   "attachments": {},
   "cell_type": "markdown",
   "metadata": {},
   "source": [
    "3) Crear una función que al recibir una lista de números, devuelva el que más se repite y cuántas veces lo hace. Si hay más de un \"más repetido\", que devuelva cualquiera"
   ]
  },
  {
   "cell_type": "code",
   "execution_count": 19,
   "metadata": {},
   "outputs": [
    {
     "name": "stdout",
     "output_type": "stream",
     "text": [
      "El numero mas rapetido es: [3], con 4 repeticiones\n"
     ]
    }
   ],
   "source": [
    "def mas_repe(lista):\n",
    "    contador = {}\n",
    "    for numero in lista:\n",
    "        if numero in contador:\n",
    "            contador[numero] +=1\n",
    "        else:\n",
    "            contador[numero]=1\n",
    "    max_repeticiones = max(contador.values())\n",
    "    num_mas_repe = [numero for numero,repeticiones in contador.items() if repeticiones==max_repeticiones]\n",
    "    return num_mas_repe,max_repeticiones\n",
    "\n",
    "numeros = [1,2,3,4,55,6,7,3,4,3,5,3,6,2,7,2,7]\n",
    "mas_repetidos, repeticiones = mas_repe(numeros)\n",
    "print(f\"El numero mas rapetido es: {mas_repetidos}, con {repeticiones} repeticiones\")"
   ]
  },
  {
   "attachments": {},
   "cell_type": "markdown",
   "metadata": {},
   "source": [
    "4) Crear una función que convierta entre grados Celsius, Farenheit y Kelvin<br>\n",
    "Fórmula 1\t: (°C × 9/5) + 32 = °F<br>\n",
    "Fórmula 2\t: °C + 273.15 = °K<br>\n",
    "Debe recibir 3 parámetros: el valor, la medida de orígen y la medida de destino\n"
   ]
  },
  {
   "cell_type": "code",
   "execution_count": 49,
   "metadata": {},
   "outputs": [
    {
     "data": {
      "text/plain": [
       "-414.66999999999996"
      ]
     },
     "execution_count": 49,
     "metadata": {},
     "output_type": "execute_result"
    }
   ],
   "source": [
    "def calcular_grados(grados, tipo, destino):\n",
    "    calculo = 0\n",
    "    # Calculo desde grados Celsius:\n",
    "    if tipo.upper() == \"C\":\n",
    "        if destino.upper() == \"K\":\n",
    "            calculo = grados + 273.15\n",
    "        elif destino.upper() == \"F\":\n",
    "            calculo = (grados * 9/5) + 32\n",
    "        else:\n",
    "            print(\"El tipo de dato es incorrecto\")\n",
    "    # Calculo desde grados Kelvin:\n",
    "    elif tipo.upper() == \"K\":\n",
    "        if destino.upper() == \"F\":\n",
    "            calculo = ((grados - 273.15) * 9/5) + 32\n",
    "        elif destino.upper() == \"C\":\n",
    "            calculo = grados - 273.15\n",
    "        else:\n",
    "            print(\"El tipo de dato es incorrecto\")\n",
    "    # Calculo desde grados Fahrenheit:\n",
    "    elif tipo.upper() == \"F\":\n",
    "        if destino.upper() == \"C\":\n",
    "            calculo = ((grados - 32) * 5) / 9\n",
    "        elif destino.upper() == \"K\":\n",
    "            calculo = ((grados - 32) * 5/9) + 273.15\n",
    "        else:\n",
    "            print(\"El tipo de dato es incorrecto\")\n",
    "    else:\n",
    "        print(\"El tipo de dato es incorrecto\")\n",
    "    return calculo\n",
    "\n",
    "# Ejemplo de uso:\n",
    "calcular_grados(25, \"k\", \"f\")\n"
   ]
  },
  {
   "attachments": {},
   "cell_type": "markdown",
   "metadata": {},
   "source": [
    "5) Iterando una lista con los tres valores posibles de temperatura que recibe la función del punto 5, hacer un print para cada combinación de los mismos:"
   ]
  },
  {
   "cell_type": "code",
   "execution_count": 50,
   "metadata": {},
   "outputs": [
    {
     "name": "stdout",
     "output_type": "stream",
     "text": [
      "1 grado Celsius a Kelvin: 274.15\n",
      "1 grado Celsius a Farenheit: 33.8\n",
      "1 grado Kelvin a Celsius: -272.15\n",
      "1 grado Kelvin a Farenheit: -457.87\n",
      "1 grado Farenheit a Celsius: -17.22222222222222\n",
      "1 grado Farenheit a Kelvin: 255.92777777777775\n"
     ]
    }
   ],
   "source": [
    "print('1 grado Celsius a Kelvin:', calcular_grados(1, 'c', 'k'))\n",
    "print('1 grado Celsius a Farenheit:', calcular_grados(1, 'c', 'f'))\n",
    "print('1 grado Kelvin a Celsius:', calcular_grados(1, 'k', 'c'))\n",
    "print('1 grado Kelvin a Farenheit:', calcular_grados(1, 'k', 'f'))\n",
    "print('1 grado Farenheit a Celsius:', calcular_grados(1, 'f', 'c'))\n",
    "print('1 grado Farenheit a Kelvin:', calcular_grados(1, 'f', 'k'))"
   ]
  },
  {
   "attachments": {},
   "cell_type": "markdown",
   "metadata": {},
   "source": [
    "6) Armar una función que devuelva el factorial de un número. Tener en cuenta que el usuario puede equivocarse y enviar de parámetro un número no entero o negativo"
   ]
  },
  {
   "cell_type": "code",
   "execution_count": 53,
   "metadata": {},
   "outputs": [],
   "source": [
    "def factorial(num):\n",
    "    if num < 1 or not isinstance(num, int):\n",
    "        print(f\"El {num} no es un número válido para esta operación\")\n",
    "        return None\n",
    "    elif num == 1:\n",
    "        return 1\n",
    "    else:\n",
    "        return num * factorial(num - 1)"
   ]
  }
 ],
 "metadata": {
  "interpreter": {
   "hash": "c85384e4cb51c8b72350f3a8712cc8351fdc3955e32a27f9b60c6242ab125f01"
  },
  "kernelspec": {
   "display_name": "Python 3 (ipykernel)",
   "language": "python",
   "name": "python3"
  },
  "language_info": {
   "codemirror_mode": {
    "name": "ipython",
    "version": 3
   },
   "file_extension": ".py",
   "mimetype": "text/x-python",
   "name": "python",
   "nbconvert_exporter": "python",
   "pygments_lexer": "ipython3",
   "version": "3.12.2"
  }
 },
 "nbformat": 4,
 "nbformat_minor": 4
}
