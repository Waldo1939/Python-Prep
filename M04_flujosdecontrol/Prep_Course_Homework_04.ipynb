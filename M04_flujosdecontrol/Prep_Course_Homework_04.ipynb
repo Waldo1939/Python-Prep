{
 "cells": [
  {
   "attachments": {},
   "cell_type": "markdown",
   "metadata": {},
   "source": [
    "## Flujos de Control"
   ]
  },
  {
   "attachments": {},
   "cell_type": "markdown",
   "metadata": {},
   "source": [
    "1) Crear una variable que contenga un elemento del conjunto de números enteros y luego imprimir por pantalla si es mayor o menor a cero"
   ]
  },
  {
   "cell_type": "code",
   "execution_count": 1,
   "metadata": {},
   "outputs": [
    {
     "name": "stdout",
     "output_type": "stream",
     "text": [
      "El número es menor a cero\n"
     ]
    }
   ],
   "source": [
    "num1 = -3\n",
    "if (num1 <0):\n",
    "    print(\"El número es menor a cero\")\n",
    "elif (num1 >0):\n",
    "    print(\"El número es mayor a cero\")\n",
    "else: \n",
    "    print(\"El número es igual a cero\")"
   ]
  },
  {
   "attachments": {},
   "cell_type": "markdown",
   "metadata": {},
   "source": [
    "2) Crear dos variables y un condicional que informe si son del mismo tipo de dato"
   ]
  },
  {
   "cell_type": "code",
   "execution_count": 2,
   "metadata": {},
   "outputs": [
    {
     "name": "stdout",
     "output_type": "stream",
     "text": [
      "Son el mismo tipo de dato\n"
     ]
    }
   ],
   "source": [
    "var1= 4\n",
    "var2= 3\n",
    "if (type(var1)==type(var2)):\n",
    "    print(\"Son el mismo tipo de dato\")\n",
    "else:\n",
    "    print(\"Los datos son diferentes\")\n"
   ]
  },
  {
   "attachments": {},
   "cell_type": "markdown",
   "metadata": {},
   "source": [
    "3) Para los valores enteros del 1 al 20, imprimir por pantalla si es par o impar"
   ]
  },
  {
   "cell_type": "code",
   "execution_count": 3,
   "metadata": {},
   "outputs": [
    {
     "name": "stdout",
     "output_type": "stream",
     "text": [
      "1: es impar\n",
      "2: es par\n",
      "3: es impar\n",
      "4: es par\n",
      "5: es impar\n",
      "6: es par\n",
      "7: es impar\n",
      "8: es par\n",
      "9: es impar\n",
      "10: es par\n",
      "11: es impar\n",
      "12: es par\n",
      "13: es impar\n",
      "14: es par\n",
      "15: es impar\n",
      "16: es par\n",
      "17: es impar\n",
      "18: es par\n",
      "19: es impar\n",
      "20: es par\n"
     ]
    }
   ],
   "source": [
    "for n in range(1,21):\n",
    "    if (n%2==0):\n",
    "        print(f\"{n}: es par\")\n",
    "    else:\n",
    "        print(f\"{n}: es impar\")\n"
   ]
  },
  {
   "attachments": {},
   "cell_type": "markdown",
   "metadata": {},
   "source": [
    "4) En un ciclo for mostrar para los valores entre 0 y 5 el resultado de elevarlo a la potencia igual a 3"
   ]
  },
  {
   "cell_type": "code",
   "execution_count": 4,
   "metadata": {},
   "outputs": [
    {
     "name": "stdout",
     "output_type": "stream",
     "text": [
      "0\n",
      "1\n",
      "8\n",
      "27\n",
      "64\n",
      "125\n"
     ]
    }
   ],
   "source": [
    "for n in range(0,6):\n",
    "    print(n**3)"
   ]
  },
  {
   "attachments": {},
   "cell_type": "markdown",
   "metadata": {},
   "source": [
    "5) Crear una variable que contenga un número entero y realizar un ciclo for la misma cantidad de ciclos"
   ]
  },
  {
   "cell_type": "code",
   "execution_count": 5,
   "metadata": {},
   "outputs": [
    {
     "name": "stdout",
     "output_type": "stream",
     "text": [
      "0\n",
      "1\n",
      "2\n",
      "3\n",
      "4\n"
     ]
    }
   ],
   "source": [
    "var3 = 5\n",
    "for n in range (var3):\n",
    "    print(n)"
   ]
  },
  {
   "attachments": {},
   "cell_type": "markdown",
   "metadata": {},
   "source": [
    "6) Utilizar un ciclo while para realizar el factorial de un número guardado en una variable, sólo si la variable contiene un número entero mayor a 0"
   ]
  },
  {
   "cell_type": "code",
   "execution_count": 6,
   "metadata": {},
   "outputs": [
    {
     "name": "stdout",
     "output_type": "stream",
     "text": [
      "El factorial es 3628800\n"
     ]
    }
   ],
   "source": [
    "n=10\n",
    "if (n > 0)and(type(n)==int):\n",
    "    factorial = n\n",
    "    while (n > 2):\n",
    "         n = n - 1\n",
    "         factorial = factorial * n\n",
    "    print('El factorial es', factorial)\n",
    "else:\n",
    "        print('La variable no es mayor a cero')"
   ]
  },
  {
   "attachments": {},
   "cell_type": "markdown",
   "metadata": {},
   "source": [
    "7) Crear un ciclo for dentro de un ciclo while"
   ]
  },
  {
   "cell_type": "code",
   "execution_count": 7,
   "metadata": {},
   "outputs": [
    {
     "name": "stdout",
     "output_type": "stream",
     "text": [
      "10\n",
      "9\n",
      "8\n",
      "7\n",
      "6\n",
      "5\n",
      "4\n",
      "3\n",
      "2\n",
      "1\n"
     ]
    }
   ],
   "source": [
    "num2=10\n",
    "while num2>2:\n",
    "    for i in range(num2):\n",
    "        print(num2)\n",
    "        num2-=1\n",
    "        "
   ]
  },
  {
   "attachments": {},
   "cell_type": "markdown",
   "metadata": {},
   "source": [
    "8) Crear un ciclo while dentro de un ciclo for"
   ]
  },
  {
   "cell_type": "code",
   "execution_count": 8,
   "metadata": {},
   "outputs": [
    {
     "name": "stdout",
     "output_type": "stream",
     "text": [
      "El numero 2 es par\n",
      "El numero 4 es par\n",
      "El numero 6 es par\n",
      "El numero 8 es par\n"
     ]
    }
   ],
   "source": [
    "for i in range(1,10):\n",
    "    while i %2==0:\n",
    "        print(f\"El numero {i} es par\")\n",
    "        break\n",
    "        "
   ]
  },
  {
   "attachments": {},
   "cell_type": "markdown",
   "metadata": {},
   "source": [
    "9) Imprimir los números primos existentes entre 0 y 30"
   ]
  },
  {
   "cell_type": "code",
   "execution_count": 9,
   "metadata": {},
   "outputs": [
    {
     "name": "stdout",
     "output_type": "stream",
     "text": [
      "2\n",
      "3\n",
      "5\n",
      "7\n",
      "11\n",
      "13\n",
      "17\n",
      "19\n",
      "23\n",
      "29\n"
     ]
    }
   ],
   "source": [
    "def es_primo(num):\n",
    "    if num <=1:\n",
    "        return False\n",
    "    for i in range(2,int(num**0.5)+1):\n",
    "        if num %i ==0:\n",
    "            return False\n",
    "    return True\n",
    "\n",
    "for num in range (31):\n",
    "    if es_primo(num):\n",
    "        print(num)\n",
    "    "
   ]
  },
  {
   "attachments": {},
   "cell_type": "markdown",
   "metadata": {},
   "source": [
    "10) ¿Se puede mejorar el proceso del punto 9? Utilizar las sentencias break y/ó continue para tal fin"
   ]
  },
  {
   "cell_type": "code",
   "execution_count": 10,
   "metadata": {},
   "outputs": [
    {
     "name": "stdout",
     "output_type": "stream",
     "text": [
      "2\n",
      "3\n",
      "5\n",
      "7\n",
      "11\n",
      "13\n",
      "17\n",
      "19\n",
      "23\n",
      "29\n"
     ]
    }
   ],
   "source": [
    "def es_primo(num):\n",
    "    if num <=1:\n",
    "        return False\n",
    "    for i in range(2,int(num**0.5)+1):\n",
    "        if num %i ==0:\n",
    "            return False\n",
    "            break\n",
    "    return True\n",
    "\n",
    "for num in range (31):\n",
    "    if es_primo(num):\n",
    "        print(num)\n",
    "#asi se puede ahorrar un poco de procesamiento al saltear pasos"
   ]
  },
  {
   "attachments": {},
   "cell_type": "markdown",
   "metadata": {},
   "source": [
    "11) En los puntos 9 y 10, se diseño un código que encuentra números primos y además se lo optimizó. ¿Es posible saber en qué medida se optimizó?"
   ]
  },
  {
   "cell_type": "code",
   "execution_count": 11,
   "metadata": {},
   "outputs": [
    {
     "name": "stdout",
     "output_type": "stream",
     "text": [
      "Tiempo transcurrido en el primer codigo:0.000000 segundos\n",
      "Tiempo transcurrido en el segundo codigo:0.000000 segundos\n",
      "La diferencia entre codigos es de:0.000000 segundos\n"
     ]
    }
   ],
   "source": [
    "import time\n",
    "from IPython.display import clear_output\n",
    "#Primer codigo\n",
    "inicio1 = time.time() #Iniciamos conteo\n",
    "#Codigo:\n",
    "def es_primo(num):\n",
    "    if num <=1:\n",
    "        return False\n",
    "    for i in range(2,int(num**0.5)+1):\n",
    "        if num %i ==0:\n",
    "            return False\n",
    "    return True\n",
    "\n",
    "for num in range (31):\n",
    "    if es_primo(num):\n",
    "        print(num)\n",
    "fin1 = time.time() #Finalizamos conteo\n",
    "tiempo_trans1 = fin1 - inicio1 #Calculamos lo que tarda\n",
    "#Segundo codigo\n",
    "inicio2 = time.time() #Iniciamos conteo\n",
    "#codigo:\n",
    "def es_primo(num):\n",
    "    if num <=1:\n",
    "        return False\n",
    "    for i in range(2,int(num**0.5)+1):\n",
    "        if num %i ==0:\n",
    "            return False\n",
    "            break #Incluimos el break\n",
    "    return True\n",
    "\n",
    "for num in range (31):\n",
    "    if es_primo(num):\n",
    "        print(num)\n",
    "fin2= time.time()#Finalizamos conteo\n",
    "tiempo_trans2 = fin2 - inicio2\n",
    "time.sleep(3)\n",
    "clear_output()\n",
    "print(f\"Tiempo transcurrido en el primer codigo:{tiempo_trans1:.6f} segundos\")\n",
    "print(f\"Tiempo transcurrido en el segundo codigo:{tiempo_trans2:.6f} segundos\")\n",
    "diferencia =  tiempo_trans1 - tiempo_trans2\n",
    "print(f\"La diferencia entre codigos es de:{diferencia:.6f} segundos\")"
   ]
  },
  {
   "attachments": {},
   "cell_type": "markdown",
   "metadata": {},
   "source": [
    "12) Aplicando continue, armar un ciclo while que solo imprima los valores divisibles por 12, dentro del rango de números de 100 a 300"
   ]
  },
  {
   "cell_type": "code",
   "execution_count": 12,
   "metadata": {},
   "outputs": [
    {
     "name": "stdout",
     "output_type": "stream",
     "text": [
      "108\n",
      "120\n",
      "132\n",
      "144\n",
      "156\n",
      "168\n",
      "180\n",
      "192\n",
      "204\n",
      "216\n",
      "228\n",
      "240\n",
      "252\n",
      "264\n",
      "276\n",
      "288\n",
      "300\n"
     ]
    }
   ],
   "source": [
    "cont = 99\n",
    "while cont <300:\n",
    "    cont+=1\n",
    "    if (cont %12!=0):\n",
    "        continue\n",
    "    else:\n",
    "        print(cont)"
   ]
  },
  {
   "attachments": {},
   "cell_type": "markdown",
   "metadata": {},
   "source": [
    "13) Utilizar la función **input()** que permite hacer ingresos por teclado, para encontrar números primos y dar la opción al usario de buscar el siguiente"
   ]
  },
  {
   "cell_type": "code",
   "execution_count": 1,
   "metadata": {},
   "outputs": [
    {
     "name": "stdout",
     "output_type": "stream",
     "text": [
      "2\n",
      "3\n",
      "5\n",
      "7\n",
      "11\n",
      "13\n",
      "17\n",
      "19\n",
      "23\n",
      "Se finaliza el proceso\n"
     ]
    }
   ],
   "source": [
    "num3= 1\n",
    "seguir=\"s\"\n",
    "num_primo=False\n",
    "while seguir == \"s\":\n",
    "    for i in range (2,num3):\n",
    "        if num3 % i == 0:\n",
    "            num_primo = False\n",
    "            break\n",
    "    if num_primo:\n",
    "        print(num3)\n",
    "        buscar=input(\"¿Desea buscar el siguiente numero primo? -S/N-\")\n",
    "        if buscar.lower()!=\"s\":\n",
    "            print(\"Se finaliza el proceso\")\n",
    "            break\n",
    "    else:\n",
    "        num_primo = True\n",
    "    num3+=1\n",
    "\n"
   ]
  },
  {
   "attachments": {},
   "cell_type": "markdown",
   "metadata": {},
   "source": [
    "14) Crear un ciclo while que encuentre dentro del rango de 100 a 300 el primer número divisible por 3 y además múltiplo de 6"
   ]
  },
  {
   "cell_type": "code",
   "execution_count": 9,
   "metadata": {},
   "outputs": [
    {
     "name": "stdout",
     "output_type": "stream",
     "text": [
      "El primer numero divisible por 3 y multiplo de 6 es: 102\n"
     ]
    }
   ],
   "source": [
    "num4 = 100\n",
    "while num4<301:\n",
    "    if num4%3==0 and num4%6==0:\n",
    "        print(f\"El primer numero divisible por 3 y multiplo de 6 es: {num4}\")\n",
    "        break\n",
    "    else:\n",
    "        num4+=1"
   ]
  }
 ],
 "metadata": {
  "interpreter": {
   "hash": "c85384e4cb51c8b72350f3a8712cc8351fdc3955e32a27f9b60c6242ab125f01"
  },
  "kernelspec": {
   "display_name": "Python 3 (ipykernel)",
   "language": "python",
   "name": "python3"
  },
  "language_info": {
   "codemirror_mode": {
    "name": "ipython",
    "version": 3
   },
   "file_extension": ".py",
   "mimetype": "text/x-python",
   "name": "python",
   "nbconvert_exporter": "python",
   "pygments_lexer": "ipython3",
   "version": "3.12.2"
  }
 },
 "nbformat": 4,
 "nbformat_minor": 4
}
